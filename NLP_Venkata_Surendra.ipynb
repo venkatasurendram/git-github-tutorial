{
  "cells": [
    {
      "cell_type": "markdown",
      "metadata": {
        "id": "view-in-github",
        "colab_type": "text"
      },
      "source": [
        "<a href=\"https://colab.research.google.com/github/venkatasurendram/git-github-tutorial/blob/master/NLP_Venkata_Surendra.ipynb\" target=\"_parent\"><img src=\"https://colab.research.google.com/assets/colab-badge.svg\" alt=\"Open In Colab\"/></a>"
      ]
    },
    {
      "cell_type": "markdown",
      "id": "c848c1fc",
      "metadata": {
        "id": "c848c1fc"
      },
      "source": [
        "# Assignment 1: Text Preprocessing Techniques"
      ]
    },
    {
      "cell_type": "markdown",
      "id": "6214e0ea",
      "metadata": {
        "id": "6214e0ea"
      },
      "source": [
        "# Data Acquisition"
      ]
    },
    {
      "cell_type": "markdown",
      "source": [
        "The dataset used here is taken from \"Kaggle\"\n",
        "https://www.kaggle.com/datasets/hkapoor/covid19-india-news-headlines-for-nlp"
      ],
      "metadata": {
        "id": "zPYhws-qCfkF"
      },
      "id": "zPYhws-qCfkF"
    },
    {
      "cell_type": "code",
      "execution_count": 58,
      "id": "809a1725",
      "metadata": {
        "colab": {
          "base_uri": "https://localhost:8080/"
        },
        "id": "809a1725",
        "outputId": "34cf125d-0ea5-44b3-8839-4aa0744ff4b5"
      },
      "outputs": [
        {
          "output_type": "stream",
          "name": "stderr",
          "text": [
            "[nltk_data] Downloading package punkt to /root/nltk_data...\n",
            "[nltk_data]   Package punkt is already up-to-date!\n"
          ]
        },
        {
          "output_type": "stream",
          "name": "stdout",
          "text": [
            "Requirement already satisfied: googletrans==4.0.0-rc1 in /usr/local/lib/python3.10/dist-packages (4.0.0rc1)\n",
            "Requirement already satisfied: httpx==0.13.3 in /usr/local/lib/python3.10/dist-packages (from googletrans==4.0.0-rc1) (0.13.3)\n",
            "Requirement already satisfied: certifi in /usr/local/lib/python3.10/dist-packages (from httpx==0.13.3->googletrans==4.0.0-rc1) (2024.8.30)\n",
            "Requirement already satisfied: hstspreload in /usr/local/lib/python3.10/dist-packages (from httpx==0.13.3->googletrans==4.0.0-rc1) (2024.9.1)\n",
            "Requirement already satisfied: sniffio in /usr/local/lib/python3.10/dist-packages (from httpx==0.13.3->googletrans==4.0.0-rc1) (1.3.1)\n",
            "Requirement already satisfied: chardet==3.* in /usr/local/lib/python3.10/dist-packages (from httpx==0.13.3->googletrans==4.0.0-rc1) (3.0.4)\n",
            "Requirement already satisfied: idna==2.* in /usr/local/lib/python3.10/dist-packages (from httpx==0.13.3->googletrans==4.0.0-rc1) (2.10)\n",
            "Requirement already satisfied: rfc3986<2,>=1.3 in /usr/local/lib/python3.10/dist-packages (from httpx==0.13.3->googletrans==4.0.0-rc1) (1.5.0)\n",
            "Requirement already satisfied: httpcore==0.9.* in /usr/local/lib/python3.10/dist-packages (from httpx==0.13.3->googletrans==4.0.0-rc1) (0.9.1)\n",
            "Requirement already satisfied: h11<0.10,>=0.8 in /usr/local/lib/python3.10/dist-packages (from httpcore==0.9.*->httpx==0.13.3->googletrans==4.0.0-rc1) (0.9.0)\n",
            "Requirement already satisfied: h2==3.* in /usr/local/lib/python3.10/dist-packages (from httpcore==0.9.*->httpx==0.13.3->googletrans==4.0.0-rc1) (3.2.0)\n",
            "Requirement already satisfied: hyperframe<6,>=5.2.0 in /usr/local/lib/python3.10/dist-packages (from h2==3.*->httpcore==0.9.*->httpx==0.13.3->googletrans==4.0.0-rc1) (5.2.0)\n",
            "Requirement already satisfied: hpack<4,>=3.0 in /usr/local/lib/python3.10/dist-packages (from h2==3.*->httpcore==0.9.*->httpx==0.13.3->googletrans==4.0.0-rc1) (3.0.0)\n",
            "Requirement already satisfied: jedi==0.18.1 in /usr/local/lib/python3.10/dist-packages (0.18.1)\n",
            "Requirement already satisfied: parso<0.9.0,>=0.8.0 in /usr/local/lib/python3.10/dist-packages (from jedi==0.18.1) (0.8.4)\n",
            "    Sno        Date                                           Headline  Covid  \\\n",
            "0     0  2020-04-29  Coronavirus cases reach 2,438 in Rajasthan; 81...      1   \n",
            "1     1  2020-04-29  Coronavirus cases in Delhi surge to 3,439 afte...      1   \n",
            "2     2  2020-04-30  Anguished, I'll always recall our interactions...      0   \n",
            "3     3  2020-04-30  It's a terrible week for Indian cinema: Rahul ...      0   \n",
            "4     4  2020-04-30  Delhi Police perform 'parikrama' of AIIMS to t...      1   \n",
            "5     5  2020-04-30   MP government offices resume work with 30% staff      1   \n",
            "6     6  2020-04-30  Over 6k labourers, students brought back to J&...      1   \n",
            "7     7  2020-04-30  127 new COVID-19 cases in Pune district in 12 ...      1   \n",
            "8     8  2020-04-30  Journalist among 10 new COVID-19 cases reporte...      1   \n",
            "9     9  2020-04-30  Maha's Nashik district reports 71 new cases, i...      1   \n",
            "10   10  2020-04-30  22 new cases of COVID-19 in Karnataka, total c...      1   \n",
            "11   11  2020-04-30  Sanitation worker donates 1 month's salary to ...      1   \n",
            "12   12  2020-04-30  4 more traders in Delhi's Azadpur Mandi test c...      1   \n",
            "13   13  2020-04-30  Karnataka converts state transport bus into Mo...      1   \n",
            "14   14  2020-04-30  US praises India for lifting export restrictio...      1   \n",
            "\n",
            "    Sentiment                                        Description  \\\n",
            "0           0  Rajasthan on Wednesday reported 74 new coronav...   \n",
            "1           0  The total number of coronavirus cases in Delhi...   \n",
            "2           1  Condoling the demise of actor Rishi Kapoor, PM...   \n",
            "3           0  Congress leader Rahul Gandhi condoled Rishi Ka...   \n",
            "4           1  As a sign of respect for healthcare profession...   \n",
            "5           1  Madhya Pradesh Chief Minister Shivraj Singh Ch...   \n",
            "6           1  J&K administration has brought back 6,355 labo...   \n",
            "7           0  As many as 127 new cases of coronavirus have b...   \n",
            "8           0  Kerala Chief Minister Pinarayi Vijayan on Wedn...   \n",
            "9           0  Coronavirus cases in the Nashik district of Ma...   \n",
            "10          0  Karnataka has reported 22 new cases of coronav...   \n",
            "11          1  A sanitation worker, A Alivelu, in Telangana's...   \n",
            "12          0  As many as four more traders from Delhi's Azad...   \n",
            "13          1  Karnataka State Road Transport Corporation (KS...   \n",
            "14          1  US Secretary of State Mike Pompeo on Wednesday...   \n",
            "\n",
            "                                                Image  \\\n",
            "0   https://static.inshorts.com/inshorts/images/v1...   \n",
            "1   https://static.inshorts.com/inshorts/images/v1...   \n",
            "2   https://static.inshorts.com/inshorts/images/v1...   \n",
            "3   https://static.inshorts.com/inshorts/images/v1...   \n",
            "4   https://static.inshorts.com/inshorts/images/v1...   \n",
            "5   https://static.inshorts.com/inshorts/images/v1...   \n",
            "6   https://static.inshorts.com/inshorts/images/v1...   \n",
            "7   https://static.inshorts.com/inshorts/images/v1...   \n",
            "8   https://static.inshorts.com/inshorts/images/v1...   \n",
            "9   https://static.inshorts.com/inshorts/images/v1...   \n",
            "10  https://static.inshorts.com/inshorts/images/v1...   \n",
            "11  https://static.inshorts.com/inshorts/images/v1...   \n",
            "12  https://static.inshorts.com/inshorts/images/v1...   \n",
            "13  https://static.inshorts.com/inshorts/images/v1...   \n",
            "14  https://static.inshorts.com/inshorts/images/v1...   \n",
            "\n",
            "                                               Source  \n",
            "0   http://www.rajswasthya.nic.in/?utm_campaign=fu...  \n",
            "1   https://twitter.com/shemin_joy/status/12555489...  \n",
            "2   https://twitter.com/narendramodi/status/125573...  \n",
            "3   https://zeenews.india.com/india/politicians-mo...  \n",
            "4   https://zeenews.india.com/india/delhi-police-p...  \n",
            "5   https://www.financialexpress.com/india-news/ma...  \n",
            "6   https://www.financialexpress.com/india-news/ov...  \n",
            "7   https://twitter.com/ANI/status/125571146857995...  \n",
            "8   https://www.newindianexpress.com/states/kerala...  \n",
            "9   https://www.financialexpress.com/lifestyle/hea...  \n",
            "10  https://www.financialexpress.com/lifestyle/hea...  \n",
            "11  https://www.newindianexpress.com/states/telang...  \n",
            "12  https://twitter.com/ANI/status/125572371509181...  \n",
            "13  https://www.aninews.in/news/national/general-n...  \n",
            "14  https://www.financialexpress.com/india-news/mi...  \n"
          ]
        },
        {
          "output_type": "stream",
          "name": "stderr",
          "text": [
            "[nltk_data] Downloading package wordnet to /root/nltk_data...\n",
            "[nltk_data]   Package wordnet is already up-to-date!\n",
            "[nltk_data] Downloading package omw-1.4 to /root/nltk_data...\n",
            "[nltk_data]   Package omw-1.4 is already up-to-date!\n"
          ]
        }
      ],
      "source": [
        "import pandas as pd\n",
        "import re\n",
        "from datetime import datetime\n",
        "import random\n",
        "import nltk\n",
        "nltk.download('punkt')\n",
        "\n",
        "!pip install googletrans==4.0.0-rc1\n",
        "!pip install jedi==0.18.1\n",
        "\n",
        "from nltk.corpus import wordnet\n",
        "from googletrans import Translator\n",
        "\n",
        "# Download NLTK data for synonym replacement\n",
        "nltk.download('wordnet')\n",
        "nltk.download('omw-1.4')\n",
        "\n",
        "# Load the dataset\n",
        "df = pd.read_csv(\"/content/raw_data.csv\")\n",
        "\n",
        "# Display the first few rows of the dataframe\n",
        "print(df.head(15))\n"
      ]
    },
    {
      "cell_type": "markdown",
      "id": "3084b476",
      "metadata": {
        "id": "3084b476"
      },
      "source": [
        "# Data Exploration"
      ]
    },
    {
      "cell_type": "code",
      "execution_count": 59,
      "id": "36c02251",
      "metadata": {
        "colab": {
          "base_uri": "https://localhost:8080/",
          "height": 508
        },
        "id": "36c02251",
        "outputId": "7e3184bd-9de2-44d9-872e-c1f03b3f0339"
      },
      "outputs": [
        {
          "output_type": "display_data",
          "data": {
            "text/plain": [
              "<Figure size 500x500 with 1 Axes>"
            ],
            "image/png": "[encoded data removed]"
          },
          "metadata": {}
        }
      ],
      "source": [
        "import pandas as pd\n",
        "import matplotlib.pyplot as plt\n",
        "# Ensure 'Date' is in datetime format and extract the year\n",
        "df = pd.read_csv(\"/content/raw_data.csv\")\n",
        "df['year'] = pd.to_datetime(df['Date']).dt.year\n",
        "\n",
        "# Plot the number of headlines per year\n",
        "df['year'].value_counts().sort_index().plot(kind='bar', figsize=(5, 5))\n",
        "plt.title('Covid_19 News')\n",
        "plt.xlabel('Year')\n",
        "plt.ylabel('Reported Positive')\n",
        "plt.show()"
      ]
    },
    {
      "cell_type": "code",
      "execution_count": 60,
      "id": "5fa1e0e4",
      "metadata": {
        "colab": {
          "base_uri": "https://localhost:8080/",
          "height": 487
        },
        "id": "5fa1e0e4",
        "outputId": "e0854199-ab0f-4beb-e3a6-682969640d84"
      },
      "outputs": [
        {
          "output_type": "display_data",
          "data": {
            "text/plain": [
              "<Figure size 1000x500 with 1 Axes>"
            ],
            "image/png": "[encoded data removed]"
          },
          "metadata": {}
        }
      ],
      "source": [
        "import seaborn as sns\n",
        "import matplotlib.pyplot as plt\n",
        "\n",
        "# Add a column for the length of each headline\n",
        "df['headline_length'] = df['Headline'].apply(len)\n",
        "\n",
        "# Plot the density plot for headline lengths\n",
        "plt.figure(figsize=(10, 5))\n",
        "sns.kdeplot(df['headline_length'], fill=True)\n",
        "plt.title('Density Plot of Headline Length')\n",
        "plt.xlabel('Headline Length')\n",
        "plt.ylabel('Density')\n",
        "plt.show()"
      ]
    },
    {
      "cell_type": "code",
      "execution_count": 60,
      "id": "7fd22a1b",
      "metadata": {
        "id": "7fd22a1b"
      },
      "outputs": [],
      "source": []
    },
    {
      "cell_type": "code",
      "execution_count": 61,
      "id": "1667e07e",
      "metadata": {
        "colab": {
          "base_uri": "https://localhost:8080/",
          "height": 580
        },
        "id": "1667e07e",
        "outputId": "b9b48a23-9f55-4770-bcd8-9918d2d6f9a6"
      },
      "outputs": [
        {
          "output_type": "stream",
          "name": "stdout",
          "text": [
            "Most common words in headlines:\n",
            " [('to', 1923), ('in', 1777), ('coronavirus', 1036), ('19', 845), ('covid', 830), ('for', 784), ('of', 730), ('cases', 536), ('on', 527), ('s', 493), ('govt', 486), ('lockdown', 438), ('india', 380), ('delhi', 377), ('amid', 330), ('pm', 329), ('from', 311), ('after', 277), ('1', 261), ('with', 246)]\n"
          ]
        },
        {
          "output_type": "display_data",
          "data": {
            "text/plain": [
              "<Figure size 640x480 with 1 Axes>"
            ],
            "image/png": "[encoded data removed]"
          },
          "metadata": {}
        }
      ],
      "source": [
        "from collections import Counter\n",
        "import re\n",
        "\n",
        "# Function to tokenize the headlines into words\n",
        "def tokenize(text):\n",
        "    text = re.sub(r'\\W+', ' ', text)  # Remove non-alphanumeric characters\n",
        "    return text.lower().split()\n",
        "\n",
        "# Apply the tokenization function to the headlines\n",
        "df['tokens'] = df['Headline'].apply(tokenize)\n",
        "\n",
        "# Flatten the list of tokens and count word frequencies\n",
        "all_words = [word for tokens in df['tokens'] for word in tokens]\n",
        "word_freq = Counter(all_words)\n",
        "\n",
        "# Display the 20 most common words\n",
        "common_words = word_freq.most_common(20)\n",
        "print(\"Most common words in headlines:\\n\", common_words)\n",
        "\n",
        "# Plot the most common words\n",
        "words, counts = zip(*common_words)\n",
        "plt.bar(words, counts)\n",
        "plt.title(' Most Common Words in Headlines')\n",
        "plt.xticks(rotation=45)\n",
        "plt.xlabel('Words')\n",
        "plt.ylabel('Frequency')\n",
        "plt.show()"
      ]
    },
    {
      "cell_type": "markdown",
      "id": "819bb777",
      "metadata": {
        "id": "819bb777"
      },
      "source": [
        "# Text Preprocessing Techniques\n",
        "\n"
      ]
    },
    {
      "cell_type": "markdown",
      "id": "b6d7691d",
      "metadata": {
        "id": "b6d7691d"
      },
      "source": [
        "# Text Extraction and Cleanup\n"
      ]
    },
    {
      "cell_type": "code",
      "execution_count": 62,
      "id": "269ed06a",
      "metadata": {
        "colab": {
          "base_uri": "https://localhost:8080/"
        },
        "id": "269ed06a",
        "outputId": "55c8ed10-3c9e-4fea-ea41-019ddcd5abe4"
      },
      "outputs": [
        {
          "output_type": "stream",
          "name": "stdout",
          "text": [
            "         Date formatted_date\n",
            "0  2020-04-29     2020-04-29\n",
            "1  2020-04-29     2020-04-29\n",
            "2  2020-04-30     2020-04-30\n",
            "3  2020-04-30     2020-04-30\n",
            "4  2020-04-30     2020-04-30\n",
            "          Date formatted_date  \\\n",
            "0   2020-04-29     2020-04-29   \n",
            "1   2020-04-29     2020-04-29   \n",
            "2   2020-04-30     2020-04-30   \n",
            "3   2020-04-30     2020-04-30   \n",
            "4   2020-04-30     2020-04-30   \n",
            "5   2020-04-30     2020-04-30   \n",
            "6   2020-04-30     2020-04-30   \n",
            "7   2020-04-30     2020-04-30   \n",
            "8   2020-04-30     2020-04-30   \n",
            "9   2020-04-30     2020-04-30   \n",
            "10  2020-04-30     2020-04-30   \n",
            "11  2020-04-30     2020-04-30   \n",
            "12  2020-04-30     2020-04-30   \n",
            "13  2020-04-30     2020-04-30   \n",
            "14  2020-04-30     2020-04-30   \n",
            "\n",
            "                                             Headline  \\\n",
            "0   Coronavirus cases reach 2,438 in Rajasthan; 81...   \n",
            "1   Coronavirus cases in Delhi surge to 3,439 afte...   \n",
            "2   Anguished, I'll always recall our interactions...   \n",
            "3   It's a terrible week for Indian cinema: Rahul ...   \n",
            "4   Delhi Police perform 'parikrama' of AIIMS to t...   \n",
            "5    MP government offices resume work with 30% staff   \n",
            "6   Over 6k labourers, students brought back to J&...   \n",
            "7   127 new COVID-19 cases in Pune district in 12 ...   \n",
            "8   Journalist among 10 new COVID-19 cases reporte...   \n",
            "9   Maha's Nashik district reports 71 new cases, i...   \n",
            "10  22 new cases of COVID-19 in Karnataka, total c...   \n",
            "11  Sanitation worker donates 1 month's salary to ...   \n",
            "12  4 more traders in Delhi's Azadpur Mandi test c...   \n",
            "13  Karnataka converts state transport bus into Mo...   \n",
            "14  US praises India for lifting export restrictio...   \n",
            "\n",
            "                                     cleaned_headline  \n",
            "0   Coronavirus cases reach  in Rajasthan  patient...  \n",
            "1   Coronavirus cases in Delhi surge to  after  ne...  \n",
            "2   Anguished Ill always recall our interactions P...  \n",
            "3   Its a terrible week for Indian cinema Rahul Ga...  \n",
            "4   Delhi Police perform parikrama of AIIMS to tha...  \n",
            "5       MP government offices resume work with  staff  \n",
            "6   Over k labourers students brought back to JK i...  \n",
            "7   new COVID cases in Pune district in  hours tot...  \n",
            "8   Journalist among  new COVID cases reported in ...  \n",
            "9   Mahas Nashik district reports  new cases inclu...  \n",
            "10      new cases of COVID in Karnataka total crosses  \n",
            "11  Sanitation worker donates  months salary to Te...  \n",
            "12  more traders in Delhis Azadpur Mandi test coro...  \n",
            "13  Karnataka converts state transport bus into Mo...  \n",
            "14  US praises India for lifting export restrictio...  \n"
          ]
        }
      ],
      "source": [
        "def clean_text(text):\n",
        "    # Remove HTML tags\n",
        "    text = re.sub(r'<.*?>', '', text)\n",
        "    # Remove special characters and digits\n",
        "    text = re.sub(r'[^a-zA-Z\\s]', '', text)\n",
        "    # Remove extra whitespace\n",
        "    text = text.strip()\n",
        "    return text\n",
        "\n",
        "from datetime import datetime\n",
        "\n",
        "def format_date(date_str):\n",
        "    # Convert the string to a datetime object with the correct format\n",
        "    date_obj = datetime.strptime(date_str, '%Y-%m-%d')\n",
        "    # Format the datetime object to a string in the desired format\n",
        "    formatted_date = date_obj.strftime('%Y-%m-%d')\n",
        "    return formatted_date\n",
        "\n",
        "# Example\n",
        "df['formatted_date'] = df['Date'].apply(format_date)\n",
        "\n",
        "# Display the cleaned text\n",
        "print(df[['Date', 'formatted_date']].head())\n",
        "\n",
        "\n",
        "# Apply the text cleaning function to the 'headline' column\n",
        "df['cleaned_headline'] = df['Headline'].apply(clean_text)\n",
        "# Apply the date formatting function\n",
        "df['formatted_date'] = df['Date'].apply(format_date)\n",
        "\n",
        "# Display the cleaned text\n",
        "print(df[['Date', 'formatted_date', 'Headline', 'cleaned_headline']].head(15))\n"
      ]
    },
    {
      "cell_type": "markdown",
      "id": "de09d49d",
      "metadata": {
        "id": "de09d49d"
      },
      "source": [
        "\n",
        "# Synonym Replacement"
      ]
    },
    {
      "cell_type": "code",
      "execution_count": 63,
      "id": "5e204437",
      "metadata": {
        "colab": {
          "base_uri": "https://localhost:8080/"
        },
        "id": "5e204437",
        "outputId": "78a044a3-281c-4a02-cdc0-ead69d2dc705"
      },
      "outputs": [
        {
          "output_type": "stream",
          "name": "stdout",
          "text": [
            "                                     cleaned_headline  \\\n",
            "0   Coronavirus cases reach  in Rajasthan  patient...   \n",
            "1   Coronavirus cases in Delhi surge to  after  ne...   \n",
            "2   Anguished Ill always recall our interactions P...   \n",
            "3   Its a terrible week for Indian cinema Rahul Ga...   \n",
            "4   Delhi Police perform parikrama of AIIMS to tha...   \n",
            "5       MP government offices resume work with  staff   \n",
            "6   Over k labourers students brought back to JK i...   \n",
            "7   new COVID cases in Pune district in  hours tot...   \n",
            "8   Journalist among  new COVID cases reported in ...   \n",
            "9   Mahas Nashik district reports  new cases inclu...   \n",
            "10      new cases of COVID in Karnataka total crosses   \n",
            "11  Sanitation worker donates  months salary to Te...   \n",
            "12  more traders in Delhis Azadpur Mandi test coro...   \n",
            "13  Karnataka converts state transport bus into Mo...   \n",
            "14  US praises India for lifting export restrictio...   \n",
            "\n",
            "                                     synonym_replaced  \n",
            "0   Coronavirus sheath reach Indiana Rajasthan aff...  \n",
            "1   Coronavirus case in Delhi surge to after new s...  \n",
            "2   anguish ill constantly recall our interaction ...  \n",
            "3   information_technology deoxyadenosine_monophos...  \n",
            "4   Delhi patrol perform parikrama of AIIMS to tha...  \n",
            "5   military_police government function resume sou...  \n",
            "6   over thousand laborer scholar bring back to JK...  \n",
            "7   raw COVID event in Pune zone in hours total ex...  \n",
            "8   diarist among new COVID event report indium Ke...  \n",
            "9   Omaha Nashik zone report newly subject include...  \n",
            "10    new case of COVID Indiana Karnataka total cross  \n",
            "11  sanitation actor donate calendar_month wage to...  \n",
            "12  more trader in Delhi Azadpur Mandi test corona...  \n",
            "13  Karnataka convert state_of_matter transmit bus...  \n",
            "14  uracil praise India for lift export limitation...  \n"
          ]
        }
      ],
      "source": [
        "def replace_synonyms(text):\n",
        "    words = text.split()\n",
        "    new_words = []\n",
        "    for word in words:\n",
        "        synonyms = wordnet.synsets(word)\n",
        "        if synonyms:\n",
        "            synonym = random.choice(synonyms).lemmas()[0].name()\n",
        "            new_words.append(synonym if synonym != word else word)\n",
        "        else:\n",
        "            new_words.append(word)\n",
        "    return ' '.join(new_words)\n",
        "\n",
        "# Apply the synonym replacement function to the cleaned text\n",
        "df['synonym_replaced'] = df['cleaned_headline'].apply(replace_synonyms)\n",
        "\n",
        "# Display the results\n",
        "print(df[['cleaned_headline', 'synonym_replaced']].head(15))\n"
      ]
    },
    {
      "cell_type": "code",
      "execution_count": 64,
      "id": "f553805e",
      "metadata": {
        "colab": {
          "base_uri": "https://localhost:8080/"
        },
        "id": "f553805e",
        "outputId": "60181b3a-9344-4c90-c7dc-51172793d8d0"
      },
      "outputs": [
        {
          "output_type": "stream",
          "name": "stdout",
          "text": [
            "Requirement already satisfied: googletrans==4.0.0-rc1 in /usr/local/lib/python3.10/dist-packages (4.0.0rc1)\n",
            "Requirement already satisfied: httpx==0.13.3 in /usr/local/lib/python3.10/dist-packages (from googletrans==4.0.0-rc1) (0.13.3)\n",
            "Requirement already satisfied: certifi in /usr/local/lib/python3.10/dist-packages (from httpx==0.13.3->googletrans==4.0.0-rc1) (2024.8.30)\n",
            "Requirement already satisfied: hstspreload in /usr/local/lib/python3.10/dist-packages (from httpx==0.13.3->googletrans==4.0.0-rc1) (2024.9.1)\n",
            "Requirement already satisfied: sniffio in /usr/local/lib/python3.10/dist-packages (from httpx==0.13.3->googletrans==4.0.0-rc1) (1.3.1)\n",
            "Requirement already satisfied: chardet==3.* in /usr/local/lib/python3.10/dist-packages (from httpx==0.13.3->googletrans==4.0.0-rc1) (3.0.4)\n",
            "Requirement already satisfied: idna==2.* in /usr/local/lib/python3.10/dist-packages (from httpx==0.13.3->googletrans==4.0.0-rc1) (2.10)\n",
            "Requirement already satisfied: rfc3986<2,>=1.3 in /usr/local/lib/python3.10/dist-packages (from httpx==0.13.3->googletrans==4.0.0-rc1) (1.5.0)\n",
            "Requirement already satisfied: httpcore==0.9.* in /usr/local/lib/python3.10/dist-packages (from httpx==0.13.3->googletrans==4.0.0-rc1) (0.9.1)\n",
            "Requirement already satisfied: h11<0.10,>=0.8 in /usr/local/lib/python3.10/dist-packages (from httpcore==0.9.*->httpx==0.13.3->googletrans==4.0.0-rc1) (0.9.0)\n",
            "Requirement already satisfied: h2==3.* in /usr/local/lib/python3.10/dist-packages (from httpcore==0.9.*->httpx==0.13.3->googletrans==4.0.0-rc1) (3.2.0)\n",
            "Requirement already satisfied: hyperframe<6,>=5.2.0 in /usr/local/lib/python3.10/dist-packages (from h2==3.*->httpcore==0.9.*->httpx==0.13.3->googletrans==4.0.0-rc1) (5.2.0)\n",
            "Requirement already satisfied: hpack<4,>=3.0 in /usr/local/lib/python3.10/dist-packages (from h2==3.*->httpcore==0.9.*->httpx==0.13.3->googletrans==4.0.0-rc1) (3.0.0)\n"
          ]
        }
      ],
      "source": [
        "pip install googletrans==4.0.0-rc1\n"
      ]
    },
    {
      "cell_type": "code",
      "execution_count": 65,
      "id": "904a8698",
      "metadata": {
        "colab": {
          "base_uri": "https://localhost:8080/"
        },
        "id": "904a8698",
        "outputId": "5ea9010c-03d1-43f8-8f99-85eec7afb7ad"
      },
      "outputs": [
        {
          "output_type": "stream",
          "name": "stdout",
          "text": [
            "Requirement already satisfied: deep_translator in /usr/local/lib/python3.10/dist-packages (1.11.4)\n",
            "Requirement already satisfied: beautifulsoup4<5.0.0,>=4.9.1 in /usr/local/lib/python3.10/dist-packages (from deep_translator) (4.12.3)\n",
            "Requirement already satisfied: requests<3.0.0,>=2.23.0 in /usr/local/lib/python3.10/dist-packages (from deep_translator) (2.32.3)\n",
            "Requirement already satisfied: soupsieve>1.2 in /usr/local/lib/python3.10/dist-packages (from beautifulsoup4<5.0.0,>=4.9.1->deep_translator) (2.6)\n",
            "Requirement already satisfied: charset-normalizer<4,>=2 in /usr/local/lib/python3.10/dist-packages (from requests<3.0.0,>=2.23.0->deep_translator) (3.3.2)\n",
            "Requirement already satisfied: idna<4,>=2.5 in /usr/local/lib/python3.10/dist-packages (from requests<3.0.0,>=2.23.0->deep_translator) (2.10)\n",
            "Requirement already satisfied: urllib3<3,>=1.21.1 in /usr/local/lib/python3.10/dist-packages (from requests<3.0.0,>=2.23.0->deep_translator) (2.0.7)\n",
            "Requirement already satisfied: certifi>=2017.4.17 in /usr/local/lib/python3.10/dist-packages (from requests<3.0.0,>=2.23.0->deep_translator) (2024.8.30)\n"
          ]
        }
      ],
      "source": [
        "pip install deep_translator"
      ]
    },
    {
      "cell_type": "markdown",
      "id": "1e925281",
      "metadata": {
        "id": "1e925281"
      },
      "source": [
        "# Back Translated"
      ]
    },
    {
      "cell_type": "code",
      "execution_count": 66,
      "id": "acd1e5e5",
      "metadata": {
        "colab": {
          "base_uri": "https://localhost:8080/"
        },
        "id": "acd1e5e5",
        "outputId": "ab37a585-333d-463c-b219-99417f32e414"
      },
      "outputs": [
        {
          "output_type": "stream",
          "name": "stdout",
          "text": [
            "                                     synonym_replaced  \\\n",
            "0   Coronavirus sheath reach Indiana Rajasthan aff...   \n",
            "1   Coronavirus case in Delhi surge to after new s...   \n",
            "2   anguish ill constantly recall our interaction ...   \n",
            "3   information_technology deoxyadenosine_monophos...   \n",
            "4   Delhi patrol perform parikrama of AIIMS to tha...   \n",
            "5   military_police government function resume sou...   \n",
            "6   over thousand laborer scholar bring back to JK...   \n",
            "7   raw COVID event in Pune zone in hours total ex...   \n",
            "8   diarist among new COVID event report indium Ke...   \n",
            "9   Omaha Nashik zone report newly subject include...   \n",
            "10    new case of COVID Indiana Karnataka total cross   \n",
            "11  sanitation actor donate calendar_month wage to...   \n",
            "12  more trader in Delhi Azadpur Mandi test corona...   \n",
            "13  Karnataka convert state_of_matter transmit bus...   \n",
            "14  uracil praise India for lift export limitation...   \n",
            "\n",
            "                                           translated  \\\n",
            "0   Coronavirus-Hülle erreichen Indiana Rajasthan ...   \n",
            "1   Anstieg der Coronavirus-Fälle in Delhi nach ne...   \n",
            "2   Angst krank ständig erinnern unsere Interaktio...   \n",
            "3   Informationstechnologie Desoxyadenosinmonophos...   \n",
            "4   Delhi-Patrouille führt Parikrama von AIIMS dur...   \n",
            "5   Militär_Polizei Regierungsfunktion Lebenslauf ...   \n",
            "6   über tausend Arbeiter wurden am vergangenen Ta...   \n",
            "7   Die Gesamtzahl der COVID-Neuinfektionen in der...   \n",
            "8   Tagebuchschreiber unter neuem COVID-Ereignisbe...   \n",
            "9   Omaha Nashik Zonenbericht neu Thema umfasst Po...   \n",
            "10  neuer COVID-Fall Indiana Karnataka Gesamtüberq...   \n",
            "11  Schauspieler aus dem Sanitärbereich spendet Ka...   \n",
            "12  Weitere Händler in Delhi Azadpur Mandi testen ...   \n",
            "13  Karnataka wandelt den State_of_Matter-Übertrag...   \n",
            "14  Uracil – Lob für Indien wegen Aufhebung der Ex...   \n",
            "\n",
            "                                      back_translated  \n",
            "0   Coronavirus case reach Indiana Rajasthan affec...  \n",
            "1   Coronavirus cases rise in Delhi after new issu...  \n",
            "2   Fear ill constantly remember our interaction a...  \n",
            "3   Information Technology Deoxyadenosine monophos...  \n",
            "4   Delhi Patrol performs Parikrama of AIIMS to th...  \n",
            "5   Military_Police Government function CV sour wi...  \n",
            "6   Over a thousand workers were brought back to J...  \n",
            "7   The total number of new COVID infections in Pu...  \n",
            "8   Diary writer under new COVID incident report I...  \n",
            "9   Omaha Nashik Zone Report new topic includes Po...  \n",
            "10    new COVID case Indiana Karnataka Total crossing  \n",
            "11  Sanitation actor donates monthly salary to Tel...  \n",
            "12  More traders in Delhi Azadpur Mandi test posit...  \n",
            "13  Karnataka converts State_of_Matter transmissio...  \n",
            "14  Uracil – Praise for India for lifting export r...  \n"
          ]
        }
      ],
      "source": [
        "from deep_translator import GoogleTranslator\n",
        "import time\n",
        "import pandas as pd\n",
        "\n",
        "# Define the back_translate function\n",
        "def back_translate(text):\n",
        "    try:\n",
        "        # Translate from English to German\n",
        "        translator_en_de = GoogleTranslator(source='en', target='de')\n",
        "        translated = translator_en_de.translate(text)\n",
        "\n",
        "        # Translate back from German to English\n",
        "        translator_de_en = GoogleTranslator(source='de', target='en')\n",
        "        back_translated = translator_de_en.translate(translated)\n",
        "\n",
        "        # Add a delay to avoid hitting rate limits\n",
        "        time.sleep(1)  # 1 second delay between requests\n",
        "\n",
        "        return translated, back_translated\n",
        "    except Exception as e:\n",
        "        print(f\"Translation failed: {e}\")\n",
        "        return text, text\n",
        "\n",
        "# Process only the first 15 rows\n",
        "df_first_15 = df.head(15).copy()  # Make a copy to avoid SettingWithCopyWarning\n",
        "\n",
        "# Apply the back_translation function to the 'synonym_replaced' column\n",
        "translations = df_first_15['synonym_replaced'].apply(lambda x: pd.Series(back_translate(x)))\n",
        "\n",
        "# Assign the translated and back_translated columns using .loc\n",
        "df_first_15.loc[:, 'translated'] = translations[0]\n",
        "df_first_15.loc[:, 'back_translated'] = translations[1]\n",
        "\n",
        "# Display the results\n",
        "print(df_first_15[['synonym_replaced', 'translated', 'back_translated']])\n"
      ]
    },
    {
      "cell_type": "markdown",
      "id": "70b5f41d",
      "metadata": {
        "id": "70b5f41d"
      },
      "source": [
        "# Entities Replacement"
      ]
    },
    {
      "cell_type": "code",
      "execution_count": 67,
      "id": "2cf13593",
      "metadata": {
        "colab": {
          "base_uri": "https://localhost:8080/"
        },
        "id": "2cf13593",
        "outputId": "2af94e05-fb5b-4bfe-ff14-78977831e409"
      },
      "outputs": [
        {
          "output_type": "stream",
          "name": "stdout",
          "text": [
            "                                      back_translated  \\\n",
            "0   Coronavirus case reach Indiana Rajasthan affec...   \n",
            "1   Coronavirus cases rise in Delhi after new issu...   \n",
            "2   Fear ill constantly remember our interaction a...   \n",
            "3   Information Technology Deoxyadenosine monophos...   \n",
            "4   Delhi Patrol performs Parikrama of AIIMS to th...   \n",
            "5   Military_Police Government function CV sour wi...   \n",
            "6   Over a thousand workers were brought back to J...   \n",
            "7   The total number of new COVID infections in Pu...   \n",
            "8   Diary writer under new COVID incident report I...   \n",
            "9   Omaha Nashik Zone Report new topic includes Po...   \n",
            "10    new COVID case Indiana Karnataka Total crossing   \n",
            "11  Sanitation actor donates monthly salary to Tel...   \n",
            "12  More traders in Delhi Azadpur Mandi test posit...   \n",
            "13  Karnataka converts State_of_Matter transmissio...   \n",
            "14  Uracil – Praise for India for lifting export r...   \n",
            "\n",
            "                                    entities_replaced  \n",
            "0   Coronavirus case reach CountryAna Rajasthan af...  \n",
            "1   Coronavirus cases rise in CityY after new issu...  \n",
            "2   Fear ill constantly remember our interaction a...  \n",
            "3   Information Technology Deoxyadenosine monophos...  \n",
            "4   CityY Patrol performs Parikrama of AIIMS to th...  \n",
            "5   Military_Police Government function CV sour wi...  \n",
            "6   Over a thousand workers were brought back to J...  \n",
            "7   The total number of new COVID infections in Pu...  \n",
            "8   Diary writer under new COVID incident report I...  \n",
            "9   Omaha Nashik Zone Report new topic includes Po...  \n",
            "10  new COVID case CountryAna Karnataka Total cros...  \n",
            "11  Sanitation actor donates monthly salary to Tel...  \n",
            "12  More traders in CityY Azadpur Mandi test posit...  \n",
            "13  Karnataka converts State_of_Matter transmissio...  \n",
            "14  Uracil – Praise for CountryA for lifting expor...  \n"
          ]
        }
      ],
      "source": [
        "def replace_entities(text):\n",
        "    entities = {\n",
        "        'India': 'CountryA',\n",
        "        'Mumbai': 'CityX',\n",
        "        'Delhi': 'CityY',\n",
        "        # Add more entity replacements as needed\n",
        "    }\n",
        "    for entity, replacement in entities.items():\n",
        "        text = text.replace(entity, replacement)\n",
        "    return text\n",
        "\n",
        "df_first_15['entities_replaced'] = df_first_15['back_translated'].apply(replace_entities)\n",
        "print(df_first_15[['back_translated', 'entities_replaced']])\n"
      ]
    },
    {
      "cell_type": "markdown",
      "id": "3aa86c2a",
      "metadata": {
        "id": "3aa86c2a"
      },
      "source": [
        "# Unicode Normalisation"
      ]
    },
    {
      "cell_type": "code",
      "execution_count": 68,
      "id": "92de690c",
      "metadata": {
        "colab": {
          "base_uri": "https://localhost:8080/"
        },
        "id": "92de690c",
        "outputId": "77c47fea-ab79-4b86-bbdf-78f1956c2ae8"
      },
      "outputs": [
        {
          "output_type": "stream",
          "name": "stdout",
          "text": [
            "                                     synonym_replaced  \\\n",
            "0   Coronavirus sheath reach Indiana Rajasthan aff...   \n",
            "1   Coronavirus case in Delhi surge to after new s...   \n",
            "2   anguish ill constantly recall our interaction ...   \n",
            "3   information_technology deoxyadenosine_monophos...   \n",
            "4   Delhi patrol perform parikrama of AIIMS to tha...   \n",
            "5   military_police government function resume sou...   \n",
            "6   over thousand laborer scholar bring back to JK...   \n",
            "7   raw COVID event in Pune zone in hours total ex...   \n",
            "8   diarist among new COVID event report indium Ke...   \n",
            "9   Omaha Nashik zone report newly subject include...   \n",
            "10    new case of COVID Indiana Karnataka total cross   \n",
            "11  sanitation actor donate calendar_month wage to...   \n",
            "12  more trader in Delhi Azadpur Mandi test corona...   \n",
            "13  Karnataka convert state_of_matter transmit bus...   \n",
            "14  uracil praise India for lift export limitation...   \n",
            "\n",
            "                                   unicode_normalized  \n",
            "0   Coronavirus sheath reach Indiana Rajasthan aff...  \n",
            "1   Coronavirus case in Delhi surge to after new s...  \n",
            "2   anguish ill constantly recall our interaction ...  \n",
            "3   information_technology deoxyadenosine_monophos...  \n",
            "4   Delhi patrol perform parikrama of AIIMS to tha...  \n",
            "5   military_police government function resume sou...  \n",
            "6   over thousand laborer scholar bring back to JK...  \n",
            "7   raw COVID event in Pune zone in hours total ex...  \n",
            "8   diarist among new COVID event report indium Ke...  \n",
            "9   Omaha Nashik zone report newly subject include...  \n",
            "10    new case of COVID Indiana Karnataka total cross  \n",
            "11  sanitation actor donate calendar_month wage to...  \n",
            "12  more trader in Delhi Azadpur Mandi test corona...  \n",
            "13  Karnataka convert state_of_matter transmit bus...  \n",
            "14  uracil praise India for lift export limitation...  \n"
          ]
        }
      ],
      "source": [
        "def normalize_unicode(text):\n",
        "    return text.encode('ascii', 'ignore').decode('ascii')\n",
        "\n",
        "df_first_15['unicode_normalized'] = df_first_15['synonym_replaced'].apply(normalize_unicode)\n",
        "print(df_first_15[['synonym_replaced', 'unicode_normalized']])\n"
      ]
    },
    {
      "cell_type": "code",
      "execution_count": 69,
      "id": "51a3cc4c",
      "metadata": {
        "colab": {
          "base_uri": "https://localhost:8080/"
        },
        "id": "51a3cc4c",
        "outputId": "e5a58b6f-39f5-4c38-8078-af515c10a655"
      },
      "outputs": [
        {
          "output_type": "stream",
          "name": "stdout",
          "text": [
            "Requirement already satisfied: textblob in /usr/local/lib/python3.10/dist-packages (0.17.1)\n",
            "Requirement already satisfied: nltk>=3.1 in /usr/local/lib/python3.10/dist-packages (from textblob) (3.9.1)\n",
            "Requirement already satisfied: click in /usr/local/lib/python3.10/dist-packages (from nltk>=3.1->textblob) (8.1.7)\n",
            "Requirement already satisfied: joblib in /usr/local/lib/python3.10/dist-packages (from nltk>=3.1->textblob) (1.4.2)\n",
            "Requirement already satisfied: regex>=2021.8.3 in /usr/local/lib/python3.10/dist-packages (from nltk>=3.1->textblob) (2024.5.15)\n",
            "Requirement already satisfied: tqdm in /usr/local/lib/python3.10/dist-packages (from nltk>=3.1->textblob) (4.66.5)\n"
          ]
        }
      ],
      "source": [
        "pip install textblob\n"
      ]
    },
    {
      "cell_type": "markdown",
      "id": "a30c214d",
      "metadata": {
        "id": "a30c214d"
      },
      "source": [
        "# Spell Correction\n"
      ]
    },
    {
      "cell_type": "code",
      "execution_count": 70,
      "id": "1efb18b4",
      "metadata": {
        "colab": {
          "base_uri": "https://localhost:8080/"
        },
        "id": "1efb18b4",
        "outputId": "ccf10622-9496-4900-81c6-5753f85d7195"
      },
      "outputs": [
        {
          "output_type": "stream",
          "name": "stdout",
          "text": [
            "                                   unicode_normalized  \\\n",
            "0   Coronavirus sheath reach Indiana Rajasthan aff...   \n",
            "1   Coronavirus case in Delhi surge to after new s...   \n",
            "2   anguish ill constantly recall our interaction ...   \n",
            "3   information_technology deoxyadenosine_monophos...   \n",
            "4   Delhi patrol perform parikrama of AIIMS to tha...   \n",
            "5   military_police government function resume sou...   \n",
            "6   over thousand laborer scholar bring back to JK...   \n",
            "7   raw COVID event in Pune zone in hours total ex...   \n",
            "8   diarist among new COVID event report indium Ke...   \n",
            "9   Omaha Nashik zone report newly subject include...   \n",
            "10    new case of COVID Indiana Karnataka total cross   \n",
            "11  sanitation actor donate calendar_month wage to...   \n",
            "12  more trader in Delhi Azadpur Mandi test corona...   \n",
            "13  Karnataka convert state_of_matter transmit bus...   \n",
            "14  uracil praise India for lift export limitation...   \n",
            "\n",
            "                                      spell_corrected  \n",
            "0   Coronavirus sheath reach Indiana Rajasthan aff...  \n",
            "1   Coronavirus case in Delhi surge to after new s...  \n",
            "2   anguish ill constantly recall our interaction ...  \n",
            "3   information_technology deoxyadenosine_monophos...  \n",
            "4   Delhi patrol perform parikrama of AIIMS to tha...  \n",
            "5   military_police government function resume sou...  \n",
            "6   over thousand laborer scholar bring back to of...  \n",
            "7   raw COVID event in June zone in hours total ex...  \n",
            "8   dearest among new COVID event report radium He...  \n",
            "9   Omaha Nashik zone report newly subject include...  \n",
            "10    new case of COVID Indiana Karnataka total cross  \n",
            "11  sanitation actor donate calendar_month wage to...  \n",
            "12  more trader in Delhi Azadpur And test coronavi...  \n",
            "13  Karnataka convert state_of_matter transmit bus...  \n",
            "14  trail praise India for lift export limitation ...  \n"
          ]
        }
      ],
      "source": [
        "from textblob import TextBlob\n",
        "\n",
        "def correct_spelling(text):\n",
        "    blob = TextBlob(text)\n",
        "    corrected_text = str(blob.correct())\n",
        "    return corrected_text\n",
        "\n",
        "df_first_15['spell_corrected'] = df_first_15['unicode_normalized'].apply(correct_spelling)\n",
        "print(df_first_15[['unicode_normalized', 'spell_corrected']])\n"
      ]
    },
    {
      "cell_type": "code",
      "execution_count": 71,
      "id": "900a423d",
      "metadata": {
        "scrolled": false,
        "colab": {
          "base_uri": "https://localhost:8080/"
        },
        "id": "900a423d",
        "outputId": "6239c43d-ddfd-43b7-b762-751a395f5b26"
      },
      "outputs": [
        {
          "output_type": "stream",
          "name": "stderr",
          "text": [
            "[nltk_data] Downloading package punkt to /root/nltk_data...\n",
            "[nltk_data]   Package punkt is already up-to-date!\n"
          ]
        },
        {
          "output_type": "execute_result",
          "data": {
            "text/plain": [
              "True"
            ]
          },
          "metadata": {},
          "execution_count": 71
        }
      ],
      "source": [
        "import nltk\n",
        "nltk.download('punkt')\n",
        "\n"
      ]
    },
    {
      "cell_type": "markdown",
      "id": "9eaf10cb",
      "metadata": {
        "id": "9eaf10cb"
      },
      "source": [
        "# Sentence Segmentation"
      ]
    },
    {
      "cell_type": "code",
      "execution_count": 72,
      "id": "54131dad",
      "metadata": {
        "scrolled": false,
        "colab": {
          "base_uri": "https://localhost:8080/"
        },
        "id": "54131dad",
        "outputId": "0fd9cfc8-6140-41e7-a943-41173b100cab"
      },
      "outputs": [
        {
          "output_type": "stream",
          "name": "stderr",
          "text": [
            "[nltk_data] Downloading package punkt_tab to /root/nltk_data...\n",
            "[nltk_data]   Package punkt_tab is already up-to-date!\n"
          ]
        },
        {
          "output_type": "stream",
          "name": "stdout",
          "text": [
            "                                      spell_corrected  \\\n",
            "0   Coronavirus sheath reach Indiana Rajasthan aff...   \n",
            "1   Coronavirus case in Delhi surge to after new s...   \n",
            "2   anguish ill constantly recall our interaction ...   \n",
            "3   information_technology deoxyadenosine_monophos...   \n",
            "4   Delhi patrol perform parikrama of AIIMS to tha...   \n",
            "5   military_police government function resume sou...   \n",
            "6   over thousand laborer scholar bring back to of...   \n",
            "7   raw COVID event in June zone in hours total ex...   \n",
            "8   dearest among new COVID event report radium He...   \n",
            "9   Omaha Nashik zone report newly subject include...   \n",
            "10    new case of COVID Indiana Karnataka total cross   \n",
            "11  sanitation actor donate calendar_month wage to...   \n",
            "12  more trader in Delhi Azadpur And test coronavi...   \n",
            "13  Karnataka convert state_of_matter transmit bus...   \n",
            "14  trail praise India for lift export limitation ...   \n",
            "\n",
            "                                            sentences  \n",
            "0   [Coronavirus sheath reach Indiana Rajasthan af...  \n",
            "1   [Coronavirus case in Delhi surge to after new ...  \n",
            "2   [anguish ill constantly recall our interaction...  \n",
            "3   [information_technology deoxyadenosine_monopho...  \n",
            "4   [Delhi patrol perform parikrama of AIIMS to th...  \n",
            "5   [military_police government function resume so...  \n",
            "6   [over thousand laborer scholar bring back to o...  \n",
            "7   [raw COVID event in June zone in hours total e...  \n",
            "8   [dearest among new COVID event report radium H...  \n",
            "9   [Omaha Nashik zone report newly subject includ...  \n",
            "10  [new case of COVID Indiana Karnataka total cross]  \n",
            "11  [sanitation actor donate calendar_month wage t...  \n",
            "12  [more trader in Delhi Azadpur And test coronav...  \n",
            "13  [Karnataka convert state_of_matter transmit bu...  \n",
            "14  [trail praise India for lift export limitation...  \n"
          ]
        }
      ],
      "source": [
        "import nltk\n",
        "nltk.download('punkt_tab')\n",
        "from nltk.tokenize import sent_tokenize\n",
        "import nltk.data\n",
        "\n",
        "# Manually load the Punkt tokenizer\n",
        "nltk.data.load('tokenizers/punkt/english.pickle')\n",
        "\n",
        "def segment_sentences(text):\n",
        "    return sent_tokenize(text)\n",
        "\n",
        "# Apply the sentence tokenization\n",
        "df_first_15['sentences'] = df_first_15['spell_corrected'].apply(segment_sentences)\n",
        "\n",
        "print(df_first_15[['spell_corrected', 'sentences']])\n"
      ]
    },
    {
      "cell_type": "markdown",
      "id": "980be628",
      "metadata": {
        "id": "980be628"
      },
      "source": [
        "# Word Tokenization"
      ]
    },
    {
      "cell_type": "code",
      "execution_count": 73,
      "id": "f1161521",
      "metadata": {
        "colab": {
          "base_uri": "https://localhost:8080/"
        },
        "id": "f1161521",
        "outputId": "1f5c98eb-a105-4797-e1e0-4107fbe11d16"
      },
      "outputs": [
        {
          "output_type": "stream",
          "name": "stdout",
          "text": [
            "Index(['Sno', 'Date', 'Headline', 'Covid', 'Sentiment', 'Description', 'Image',\n",
            "       'Source', 'year', 'headline_length', 'tokens', 'formatted_date',\n",
            "       'cleaned_headline', 'synonym_replaced', 'translated', 'back_translated',\n",
            "       'entities_replaced', 'unicode_normalized', 'spell_corrected',\n",
            "       'sentences'],\n",
            "      dtype='object')\n",
            "                                            sentences  \\\n",
            "0   [Coronavirus sheath reach Indiana Rajasthan af...   \n",
            "1   [Coronavirus case in Delhi surge to after new ...   \n",
            "2   [anguish ill constantly recall our interaction...   \n",
            "3   [information_technology deoxyadenosine_monopho...   \n",
            "4   [Delhi patrol perform parikrama of AIIMS to th...   \n",
            "5   [military_police government function resume so...   \n",
            "6   [over thousand laborer scholar bring back to o...   \n",
            "7   [raw COVID event in June zone in hours total e...   \n",
            "8   [dearest among new COVID event report radium H...   \n",
            "9   [Omaha Nashik zone report newly subject includ...   \n",
            "10  [new case of COVID Indiana Karnataka total cross]   \n",
            "11  [sanitation actor donate calendar_month wage t...   \n",
            "12  [more trader in Delhi Azadpur And test coronav...   \n",
            "13  [Karnataka convert state_of_matter transmit bu...   \n",
            "14  [trail praise India for lift export limitation...   \n",
            "\n",
            "                                          word_tokens  \n",
            "0   [[Coronavirus, sheath, reach, Indiana, Rajasth...  \n",
            "1   [[Coronavirus, case, in, Delhi, surge, to, aft...  \n",
            "2   [[anguish, ill, constantly, recall, our, inter...  \n",
            "3   [[information_technology, deoxyadenosine_monop...  \n",
            "4   [[Delhi, patrol, perform, parikrama, of, AIIMS...  \n",
            "5   [[military_police, government, function, resum...  \n",
            "6   [[over, thousand, laborer, scholar, bring, bac...  \n",
            "7   [[raw, COVID, event, in, June, zone, in, hours...  \n",
            "8   [[dearest, among, new, COVID, event, report, r...  \n",
            "9   [[Omaha, Nashik, zone, report, newly, subject,...  \n",
            "10  [[new, case, of, COVID, Indiana, Karnataka, to...  \n",
            "11  [[sanitation, actor, donate, calendar_month, w...  \n",
            "12  [[more, trader, in, Delhi, Azadpur, And, test,...  \n",
            "13  [[Karnataka, convert, state_of_matter, transmi...  \n",
            "14  [[trail, praise, India, for, lift, export, lim...  \n"
          ]
        }
      ],
      "source": [
        "from nltk.tokenize import word_tokenize\n",
        "\n",
        "def tokenize_words(sentences):\n",
        "    return [word_tokenize(sentence) for sentence in sentences]\n",
        "print(df_first_15.columns)\n",
        "\n",
        "df_first_15['word_tokens'] = df_first_15['sentences'].apply(tokenize_words)\n",
        "print(df_first_15[['sentences', 'word_tokens']])\n",
        "\n"
      ]
    },
    {
      "cell_type": "code",
      "execution_count": 74,
      "id": "f797dc8d",
      "metadata": {
        "colab": {
          "base_uri": "https://localhost:8080/"
        },
        "id": "f797dc8d",
        "outputId": "1eeb5d80-e3d3-456d-ce3b-6587b1b09490"
      },
      "outputs": [
        {
          "output_type": "stream",
          "name": "stdout",
          "text": [
            "                                     cleaned_headline  \\\n",
            "0   Coronavirus cases reach  in Rajasthan  patient...   \n",
            "1   Coronavirus cases in Delhi surge to  after  ne...   \n",
            "2   Anguished Ill always recall our interactions P...   \n",
            "3   Its a terrible week for Indian cinema Rahul Ga...   \n",
            "4   Delhi Police perform parikrama of AIIMS to tha...   \n",
            "5       MP government offices resume work with  staff   \n",
            "6   Over k labourers students brought back to JK i...   \n",
            "7   new COVID cases in Pune district in  hours tot...   \n",
            "8   Journalist among  new COVID cases reported in ...   \n",
            "9   Mahas Nashik district reports  new cases inclu...   \n",
            "10      new cases of COVID in Karnataka total crosses   \n",
            "11  Sanitation worker donates  months salary to Te...   \n",
            "12  more traders in Delhis Azadpur Mandi test coro...   \n",
            "13  Karnataka converts state transport bus into Mo...   \n",
            "14  US praises India for lifting export restrictio...   \n",
            "\n",
            "                                            sentences  \n",
            "0   [Coronavirus cases reach  in Rajasthan  patien...  \n",
            "1   [Coronavirus cases in Delhi surge to  after  n...  \n",
            "2   [Anguished Ill always recall our interactions ...  \n",
            "3   [Its a terrible week for Indian cinema Rahul G...  \n",
            "4   [Delhi Police perform parikrama of AIIMS to th...  \n",
            "5     [MP government offices resume work with  staff]  \n",
            "6   [Over k labourers students brought back to JK ...  \n",
            "7   [new COVID cases in Pune district in  hours to...  \n",
            "8   [Journalist among  new COVID cases reported in...  \n",
            "9   [Mahas Nashik district reports  new cases incl...  \n",
            "10    [new cases of COVID in Karnataka total crosses]  \n",
            "11  [Sanitation worker donates  months salary to T...  \n",
            "12  [more traders in Delhis Azadpur Mandi test cor...  \n",
            "13  [Karnataka converts state transport bus into M...  \n",
            "14  [US praises India for lifting export restricti...  \n"
          ]
        }
      ],
      "source": [
        "from nltk.tokenize import sent_tokenize\n",
        "\n",
        "def segment_sentences(text):\n",
        "    return sent_tokenize(text)\n",
        "\n",
        "df_first_15['sentences'] = df_first_15['cleaned_headline'].apply(segment_sentences)\n",
        "print(df_first_15[['cleaned_headline', 'sentences']])\n"
      ]
    },
    {
      "cell_type": "markdown",
      "id": "c7f94ad1",
      "metadata": {
        "id": "c7f94ad1"
      },
      "source": [
        "# Stop Word Removal"
      ]
    },
    {
      "cell_type": "code",
      "execution_count": 75,
      "id": "701c1d8c",
      "metadata": {
        "colab": {
          "base_uri": "https://localhost:8080/"
        },
        "id": "701c1d8c",
        "outputId": "b8f2e549-bc1a-433a-9210-04b2a231ca86"
      },
      "outputs": [
        {
          "output_type": "stream",
          "name": "stdout",
          "text": [
            "Requirement already satisfied: nltk in /usr/local/lib/python3.10/dist-packages (3.9.1)\n",
            "Requirement already satisfied: click in /usr/local/lib/python3.10/dist-packages (from nltk) (8.1.7)\n",
            "Requirement already satisfied: joblib in /usr/local/lib/python3.10/dist-packages (from nltk) (1.4.2)\n",
            "Requirement already satisfied: regex>=2021.8.3 in /usr/local/lib/python3.10/dist-packages (from nltk) (2024.5.15)\n",
            "Requirement already satisfied: tqdm in /usr/local/lib/python3.10/dist-packages (from nltk) (4.66.5)\n",
            "{'between', 'most', 'myself', 'himself', 'will', 'did', \"should've\", \"couldn't\", 'an', \"needn't\", \"shouldn't\", 'as', 'she', 'yours', 'then', 'while', 'shouldn', 'do', \"doesn't\", 'so', 'y', 'after', 'a', \"didn't\", 'the', 'with', 'mightn', \"that'll\", 'few', 'under', 'by', 'again', 'of', 'have', 'been', 'was', 'my', \"mightn't\", 'm', \"you'll\", \"shan't\", 'down', 'be', 'ours', 've', 'they', 'other', 'same', 'am', 'your', 'wasn', \"haven't\", 'we', 'below', 'its', 'and', 'such', 'yourselves', 'above', \"hadn't\", 'hadn', 'in', 'any', 'needn', \"it's\", 'theirs', 'because', 'during', 'hers', 'haven', 'mustn', 'it', \"you've\", 'd', 't', 'yourself', 'to', 'on', 'or', 'shan', 'if', 'for', 'his', 'herself', 'their', 'her', 'when', 'him', 'against', 're', \"you're\", 'wouldn', 'don', \"hasn't\", \"wouldn't\", 'me', 'didn', 'aren', 'being', 'from', 'about', 'than', 'too', 'doesn', 'who', 'having', 's', 'weren', 'but', 'won', 'into', 'once', 'now', 'has', 'doing', 'them', 'just', 'had', 'some', \"isn't\", 'all', 'own', 'our', 'themselves', 'ourselves', 'off', 'hasn', 'until', 'can', \"you'd\", 'he', 'this', \"don't\", 'only', 'that', 'out', 'o', 'i', 'nor', 'there', 'before', \"she's\", 'more', 'whom', 'these', 'you', 'are', \"weren't\", 'does', 'very', 'not', 'those', 'each', 'll', 'couldn', 'at', 'both', \"won't\", 'ain', 'should', 'further', \"mustn't\", 'up', 'ma', 'what', 'were', 'where', 'how', 'through', 'itself', 'here', 'isn', \"aren't\", 'over', 'no', 'which', 'is', 'why', \"wasn't\"}\n",
            "                                          word_tokens  \\\n",
            "0   [Coronavirus, cases, reach, in, Rajasthan, pat...   \n",
            "1   [Coronavirus, cases, in, Delhi, surge, to, aft...   \n",
            "2   [Anguished, Ill, always, recall, our, interact...   \n",
            "3   [Its, a, terrible, week, for, Indian, cinema, ...   \n",
            "4   [Delhi, Police, perform, parikrama, of, AIIMS,...   \n",
            "5   [MP, government, offices, resume, work, with, ...   \n",
            "6   [Over, k, labourers, students, brought, back, ...   \n",
            "7   [new, COVID, cases, in, Pune, district, in, ho...   \n",
            "8   [Journalist, among, new, COVID, cases, reporte...   \n",
            "9   [Mahas, Nashik, district, reports, new, cases,...   \n",
            "10  [new, cases, of, COVID, in, Karnataka, total, ...   \n",
            "11  [Sanitation, worker, donates, months, salary, ...   \n",
            "12  [more, traders, in, Delhis, Azadpur, Mandi, te...   \n",
            "13  [Karnataka, converts, state, transport, bus, i...   \n",
            "14  [US, praises, India, for, lifting, export, res...   \n",
            "\n",
            "                                     stopword_removed  \n",
            "0   [[C, r, n, v, r, u], [c, e], [r, e, c, h], [n]...  \n",
            "1   [[C, r, n, v, r, u], [c, e], [n], [e, l, h], [...  \n",
            "2   [[n, g, u, h, e], [l, l], [l, w], [r, e, c, l,...  \n",
            "3   [[], [], [e, r, r, b, l, e], [w, e, e, k], [f,...  \n",
            "4   [[e, l, h], [P, l, c, e], [p, e, r, f, r], [p,...  \n",
            "5   [[P], [g, v, e, r, n, e, n], [f, f, c, e], [r,...  \n",
            "6   [[v, e, r], [k], [l, b, u, r, e, r], [u, e, n]...  \n",
            "7   [[n, e, w], [C, V], [c, e], [n], [P, u, n, e],...  \n",
            "8   [[J, u, r, n, l], [n, g], [n, e, w], [C, V], [...  \n",
            "9   [[h], [N, h, k], [r, c], [r, e, p, r], [n, e, ...  \n",
            "10  [[n, e, w], [c, e], [f], [C, V], [n], [K, r, n...  \n",
            "11  [[n, n], [w, r, k, e, r], [n, e], [n, h], [l, ...  \n",
            "12  [[r, e], [r, e, r], [n], [e, l, h], [z, p, u, ...  \n",
            "13  [[K, r, n, k], [c, n, v, e, r], [e], [r, n, p,...  \n",
            "14  [[U], [p, r, e], [n], [f, r], [l, f, n, g], [e...  \n"
          ]
        },
        {
          "output_type": "stream",
          "name": "stderr",
          "text": [
            "[nltk_data] Downloading package stopwords to /root/nltk_data...\n",
            "[nltk_data]   Package stopwords is already up-to-date!\n"
          ]
        }
      ],
      "source": [
        "!pip install --upgrade nltk\n",
        "\n",
        "import nltk\n",
        "nltk.download('stopwords')\n",
        "from nltk.corpus import stopwords\n",
        "stop_words = set(stopwords.words('english'))\n",
        "print(stop_words)\n",
        "from nltk.tokenize import word_tokenize\n",
        "\n",
        "def tokenize(text):\n",
        "    return word_tokenize(text)\n",
        "\n",
        "df_first_15['word_tokens'] = df_first_15['cleaned_headline'].apply(tokenize)\n",
        "\n",
        "\n",
        "from nltk.corpus import stopwords\n",
        "\n",
        "stop_words = set(stopwords.words('english'))\n",
        "\n",
        "def remove_stopwords(tokens):\n",
        "    return [[word for word in sentence if word.lower() not in stop_words] for sentence in tokens]\n",
        "\n",
        "df_first_15['stopword_removed'] = df_first_15['word_tokens'].apply(remove_stopwords)\n",
        "print(df_first_15[['word_tokens', 'stopword_removed']])\n"
      ]
    },
    {
      "cell_type": "markdown",
      "id": "fc821679",
      "metadata": {
        "id": "fc821679"
      },
      "source": [
        "# Normalization"
      ]
    },
    {
      "cell_type": "code",
      "execution_count": 76,
      "id": "bc374982",
      "metadata": {
        "colab": {
          "base_uri": "https://localhost:8080/"
        },
        "id": "bc374982",
        "outputId": "8b720840-df06-49fd-a08e-fda56fbcb0bf"
      },
      "outputs": [
        {
          "output_type": "stream",
          "name": "stdout",
          "text": [
            "   Sno        Date                                           Headline  Covid  \\\n",
            "0    0  2020-04-29  Coronavirus cases reach 2,438 in Rajasthan; 81...      1   \n",
            "1    1  2020-04-29  Coronavirus cases in Delhi surge to 3,439 afte...      1   \n",
            "2    2  2020-04-30  Anguished, I'll always recall our interactions...      0   \n",
            "3    3  2020-04-30  It's a terrible week for Indian cinema: Rahul ...      0   \n",
            "4    4  2020-04-30  Delhi Police perform 'parikrama' of AIIMS to t...      1   \n",
            "\n",
            "   Sentiment                                        Description  \\\n",
            "0          0  Rajasthan on Wednesday reported 74 new coronav...   \n",
            "1          0  The total number of coronavirus cases in Delhi...   \n",
            "2          1  Condoling the demise of actor Rishi Kapoor, PM...   \n",
            "3          0  Congress leader Rahul Gandhi condoled Rishi Ka...   \n",
            "4          1  As a sign of respect for healthcare profession...   \n",
            "\n",
            "                                               Image  \\\n",
            "0  https://static.inshorts.com/inshorts/images/v1...   \n",
            "1  https://static.inshorts.com/inshorts/images/v1...   \n",
            "2  https://static.inshorts.com/inshorts/images/v1...   \n",
            "3  https://static.inshorts.com/inshorts/images/v1...   \n",
            "4  https://static.inshorts.com/inshorts/images/v1...   \n",
            "\n",
            "                                              Source  \n",
            "0  http://www.rajswasthya.nic.in/?utm_campaign=fu...  \n",
            "1  https://twitter.com/shemin_joy/status/12555489...  \n",
            "2  https://twitter.com/narendramodi/status/125573...  \n",
            "3  https://zeenews.india.com/india/politicians-mo...  \n",
            "4  https://zeenews.india.com/india/delhi-police-p...  \n",
            "                                      spell_corrected  \\\n",
            "0   Coronavirus sheath reach Indiana Rajasthan aff...   \n",
            "1   Coronavirus case in Delhi surge to after new s...   \n",
            "2   anguish ill constantly recall our interaction ...   \n",
            "3   information_technology deoxyadenosine_monophos...   \n",
            "4   Delhi patrol perform parikrama of AIIMS to tha...   \n",
            "5   military_police government function resume sou...   \n",
            "6   over thousand laborer scholar bring back to of...   \n",
            "7   raw COVID event in June zone in hours total ex...   \n",
            "8   dearest among new COVID event report radium He...   \n",
            "9   Omaha Nashik zone report newly subject include...   \n",
            "10    new case of COVID Indiana Karnataka total cross   \n",
            "11  sanitation actor donate calendar_month wage to...   \n",
            "12  more trader in Delhi Azadpur And test coronavi...   \n",
            "13  Karnataka convert state_of_matter transmit bus...   \n",
            "14  trail praise India for lift export limitation ...   \n",
            "\n",
            "                                           normalized  word_count  \n",
            "0   coronavirus sheath reach indiana rajasthan aff...           7  \n",
            "1   coronavirus case in delhi surge to after new s...          11  \n",
            "2   anguish ill constantly recall our interaction ...          12  \n",
            "3   information_technology deoxyadenosine_monophos...          13  \n",
            "4   delhi patrol perform parikrama of aiims to tha...          10  \n",
            "5   military_police government function resume sou...           7  \n",
            "6   over thousand laborer scholar bring back to of...          13  \n",
            "7   raw covid event in june zone in hours total ex...          10  \n",
            "8   dearest among new covid event report radium he...           8  \n",
            "9   omaha nashik zone report newly subject include...           9  \n",
            "10    new case of covid indiana karnataka total cross           8  \n",
            "11  sanitation actor donate calendar_month wage to...          10  \n",
            "12  more trader in delhi azadpur and test coronavi...           9  \n",
            "13  karnataka convert state_of_matter transmit bus...           9  \n",
            "14  trail praise india for lift export limitation ...          11  \n"
          ]
        }
      ],
      "source": [
        "import pandas as pd\n",
        "\n",
        "# Step 1: Load the dataset into DataFrame df\n",
        "df = pd.read_csv(\"/content/raw_data.csv\")\n",
        "\n",
        "# Check the first few rows to ensure it's loaded correctly\n",
        "print(df.head())\n",
        "\n",
        "# Step 2: Define df_first_5 as the first 5 rows of df\n",
        "df_first_5 = df.head(5)\n",
        "\n",
        "# Define the normalization function\n",
        "def normalize_text(text):\n",
        "    # Example normalization function\n",
        "    normalized_text = text.lower()  # Example normalization step\n",
        "    word_count = len(normalized_text.split())\n",
        "    return normalized_text, word_count\n",
        "\n",
        "# Step 3: Apply normalization and count\n",
        "df_first_15[['normalized', 'word_count']] = df_first_15['spell_corrected'].apply(lambda text: pd.Series(normalize_text(text)))\n",
        "\n",
        "# Display the results\n",
        "print(df_first_15[['spell_corrected', 'normalized', 'word_count']])"
      ]
    },
    {
      "cell_type": "markdown",
      "id": "7559144e",
      "metadata": {
        "id": "7559144e"
      },
      "source": [
        "# Stemming"
      ]
    },
    {
      "cell_type": "code",
      "execution_count": 77,
      "id": "12ebe7d7",
      "metadata": {
        "colab": {
          "base_uri": "https://localhost:8080/"
        },
        "id": "12ebe7d7",
        "outputId": "fcc059c6-035c-438c-fa92-0c5453dcb4d9"
      },
      "outputs": [
        {
          "output_type": "stream",
          "name": "stdout",
          "text": [
            "                                           normalized  \\\n",
            "0   coronavirus sheath reach indiana rajasthan aff...   \n",
            "1   coronavirus case in delhi surge to after new s...   \n",
            "2   anguish ill constantly recall our interaction ...   \n",
            "3   information_technology deoxyadenosine_monophos...   \n",
            "4   delhi patrol perform parikrama of aiims to tha...   \n",
            "5   military_police government function resume sou...   \n",
            "6   over thousand laborer scholar bring back to of...   \n",
            "7   raw covid event in june zone in hours total ex...   \n",
            "8   dearest among new covid event report radium he...   \n",
            "9   omaha nashik zone report newly subject include...   \n",
            "10    new case of covid indiana karnataka total cross   \n",
            "11  sanitation actor donate calendar_month wage to...   \n",
            "12  more trader in delhi azadpur and test coronavi...   \n",
            "13  karnataka convert state_of_matter transmit bus...   \n",
            "14  trail praise india for lift export limitation ...   \n",
            "\n",
            "                                              stemmed  stemmed_count  \n",
            "0   coronaviru sheath reach indiana rajasthan affe...              3  \n",
            "1   coronaviru case in delhi surg to after new sub...              2  \n",
            "2   anguish ill constantli recal our interact tops...              5  \n",
            "3   information_technolog deoxyadenosine_monophosp...              5  \n",
            "4   delhi patrol perform parikrama of aiim to than...              1  \n",
            "5   military_polic govern function resum sour with...              3  \n",
            "6   over thousand labor scholar bring back to of i...              1  \n",
            "7   raw covid event in june zone in hour total exceed              1  \n",
            "8   dearest among new covid event report radium he...              0  \n",
            "9   omaha nashik zone report newli subject includ ...              4  \n",
            "10    new case of covid indiana karnataka total cross              0  \n",
            "11  sanit actor donat calendar_month wage to telan...              3  \n",
            "12  more trader in delhi azadpur and test coronavi...              2  \n",
            "13  karnataka convert state_of_matt transmit bu in...              2  \n",
            "14  trail prais india for lift export limit on cri...              4  \n"
          ]
        }
      ],
      "source": [
        "from nltk.tokenize import word_tokenize\n",
        "from nltk.stem import PorterStemmer\n",
        "\n",
        "# Initialize the stemmer\n",
        "stemmer = PorterStemmer()\n",
        "\n",
        "def apply_stemming(text):\n",
        "    tokens = word_tokenize(text)\n",
        "    stemmed = []\n",
        "    stemmed_count = 0\n",
        "\n",
        "    for word in tokens:\n",
        "        stemmed_word = stemmer.stem(word)\n",
        "        stemmed.append(stemmed_word)\n",
        "        if word != stemmed_word:\n",
        "            stemmed_count += 1\n",
        "\n",
        "    stemmed_text = ' '.join(stemmed)\n",
        "    return stemmed_text, stemmed_count\n",
        "\n",
        "\n",
        "# Apply stemming and count\n",
        "df_first_15[['stemmed', 'stemmed_count']] = df_first_15['normalized'].apply(lambda text: pd.Series(apply_stemming(text)))\n",
        "\n",
        "# Display the results\n",
        "print(df_first_15[['normalized', 'stemmed', 'stemmed_count']])\n"
      ]
    },
    {
      "cell_type": "markdown",
      "id": "d5818eea",
      "metadata": {
        "id": "d5818eea"
      },
      "source": [
        "# Lemmatization"
      ]
    },
    {
      "cell_type": "code",
      "execution_count": 78,
      "id": "da3f220c",
      "metadata": {
        "colab": {
          "base_uri": "https://localhost:8080/"
        },
        "id": "da3f220c",
        "outputId": "a624dce1-668e-4e6f-d8a9-c4a511f443ad"
      },
      "outputs": [
        {
          "output_type": "stream",
          "name": "stdout",
          "text": [
            "                                           normalized  \\\n",
            "0   coronavirus sheath reach indiana rajasthan aff...   \n",
            "1   coronavirus case in delhi surge to after new s...   \n",
            "2   anguish ill constantly recall our interaction ...   \n",
            "3   information_technology deoxyadenosine_monophos...   \n",
            "4   delhi patrol perform parikrama of aiims to tha...   \n",
            "5   military_police government function resume sou...   \n",
            "6   over thousand laborer scholar bring back to of...   \n",
            "7   raw covid event in june zone in hours total ex...   \n",
            "8   dearest among new covid event report radium he...   \n",
            "9   omaha nashik zone report newly subject include...   \n",
            "10    new case of covid indiana karnataka total cross   \n",
            "11  sanitation actor donate calendar_month wage to...   \n",
            "12  more trader in delhi azadpur and test coronavi...   \n",
            "13  karnataka convert state_of_matter transmit bus...   \n",
            "14  trail praise india for lift export limitation ...   \n",
            "\n",
            "                                           lemmatized  lemmatized_count  \n",
            "0   coronavirus sheath reach indiana rajasthan aff...                 0  \n",
            "1   coronavirus case in delhi surge to after new s...                 0  \n",
            "2   anguish ill constantly recall our interaction ...                 1  \n",
            "3   information_technology deoxyadenosine_monophos...                 1  \n",
            "4   delhi patrol perform parikrama of aiims to tha...                 0  \n",
            "5   military_police government function resume sou...                 0  \n",
            "6   over thousand laborer scholar bring back to of...                 0  \n",
            "7   raw covid event in june zone in hour total exceed                 1  \n",
            "8   dearest among new covid event report radium he...                 0  \n",
            "9   omaha nashik zone report newly subject include...                 0  \n",
            "10    new case of covid indiana karnataka total cross                 0  \n",
            "11  sanitation actor donate calendar_month wage to...                 1  \n",
            "12  more trader in delhi azadpur and test coronavi...                 0  \n",
            "13  karnataka convert state_of_matter transmit bus...                 0  \n",
            "14  trail praise india for lift export limitation ...                 0  \n"
          ]
        }
      ],
      "source": [
        "from nltk.tokenize import word_tokenize\n",
        "from nltk.stem import WordNetLemmatizer\n",
        "\n",
        "\n",
        "# Initialize the lemmatizer\n",
        "lemmatizer = WordNetLemmatizer()\n",
        "\n",
        "def apply_lemmatization(text):\n",
        "    tokens = word_tokenize(text)\n",
        "    lemmatized = []\n",
        "    lemmatized_count = 0\n",
        "\n",
        "    for word in tokens:\n",
        "        lemmatized_word = lemmatizer.lemmatize(word)\n",
        "        lemmatized.append(lemmatized_word)\n",
        "        if word != lemmatized_word:\n",
        "            lemmatized_count += 1\n",
        "\n",
        "    lemmatized_text = ' '.join(lemmatized)\n",
        "    return lemmatized_text, lemmatized_count\n",
        "\n",
        "\n",
        "\n",
        "\n",
        "df_first_15[['lemmatized', 'lemmatized_count']] = df_first_15['normalized'].apply(lambda text: pd.Series(apply_lemmatization(text)))\n",
        "\n",
        "\n",
        "# Apply lemmatization and count\n",
        "df_first_15[['lemmatized', 'lemmatized_count']] = df_first_15['normalized'].apply(lambda text: pd.Series(apply_lemmatization(text)))\n",
        "\n",
        "# Display the results\n",
        "print(df_first_15[['normalized', 'lemmatized', 'lemmatized_count']])\n"
      ]
    }
  ],
  "metadata": {
    "kernelspec": {
      "display_name": "Python 3 (ipykernel)",
      "language": "python",
      "name": "python3"
    },
    "language_info": {
      "codemirror_mode": {
        "name": "ipython",
        "version": 3
      },
      "file_extension": ".py",
      "mimetype": "text/x-python",
      "name": "python",
      "nbconvert_exporter": "python",
      "pygments_lexer": "ipython3",
      "version": "3.11.5"
    },
    "colab": {
      "provenance": [],
      "include_colab_link": true
    }
  },
  "nbformat": 4,
  "nbformat_minor": 5
}